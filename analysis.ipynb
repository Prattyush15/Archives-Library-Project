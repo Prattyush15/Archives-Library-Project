{
 "cells": [
  {
   "cell_type": "code",
   "execution_count": 62,
   "metadata": {},
   "outputs": [],
   "source": [
    "# importing the libraries\n",
    "import pandas as pd\n",
    "import regex as re\n",
    "import seaborn as sns"
   ]
  },
  {
   "cell_type": "code",
   "execution_count": 63,
   "metadata": {},
   "outputs": [],
   "source": [
    "# read the dataframe\n",
    "df = pd.read_csv('https://raw.githubusercontent.com/SadeekFarhan21/BDAA_Archive/main/data.csv')"
   ]
  },
  {
   "cell_type": "code",
   "execution_count": 64,
   "metadata": {},
   "outputs": [
    {
     "data": {
      "text/html": [
       "<div>\n",
       "<style scoped>\n",
       "    .dataframe tbody tr th:only-of-type {\n",
       "        vertical-align: middle;\n",
       "    }\n",
       "\n",
       "    .dataframe tbody tr th {\n",
       "        vertical-align: top;\n",
       "    }\n",
       "\n",
       "    .dataframe thead th {\n",
       "        text-align: right;\n",
       "    }\n",
       "</style>\n",
       "<table border=\"1\" class=\"dataframe\">\n",
       "  <thead>\n",
       "    <tr style=\"text-align: right;\">\n",
       "      <th></th>\n",
       "      <th>Collectionq</th>\n",
       "      <th>Location</th>\n",
       "      <th>Box</th>\n",
       "      <th>Folder</th>\n",
       "      <th>Series</th>\n",
       "      <th>Subseries</th>\n",
       "      <th>Description</th>\n",
       "    </tr>\n",
       "  </thead>\n",
       "  <tbody>\n",
       "    <tr>\n",
       "      <th>0</th>\n",
       "      <td>Glenn</td>\n",
       "      <td>01-7-23-20-01-0-1</td>\n",
       "      <td>1.0</td>\n",
       "      <td>1.0</td>\n",
       "      <td>Personal/Political</td>\n",
       "      <td>Administrative Assistants</td>\n",
       "      <td>William R. White - Memoranda - received, 1977.</td>\n",
       "    </tr>\n",
       "    <tr>\n",
       "      <th>1</th>\n",
       "      <td>Glenn</td>\n",
       "      <td>01-7-23-20-01-0-1</td>\n",
       "      <td>1.0</td>\n",
       "      <td>2.0</td>\n",
       "      <td>Personal/Political</td>\n",
       "      <td>Administrative Assistant</td>\n",
       "      <td>William R. White - Memoranda - received, Janua...</td>\n",
       "    </tr>\n",
       "    <tr>\n",
       "      <th>2</th>\n",
       "      <td>Glenn</td>\n",
       "      <td>01-7-23-20-01-0-1</td>\n",
       "      <td>1.0</td>\n",
       "      <td>3.0</td>\n",
       "      <td>Personal/Political</td>\n",
       "      <td>Administrative Assistant</td>\n",
       "      <td>William R. White - Memoranda - received, July ...</td>\n",
       "    </tr>\n",
       "    <tr>\n",
       "      <th>3</th>\n",
       "      <td>Glenn</td>\n",
       "      <td>01-7-23-20-01-0-1</td>\n",
       "      <td>1.0</td>\n",
       "      <td>4.0</td>\n",
       "      <td>Personal/Political</td>\n",
       "      <td>Administrative Assistant</td>\n",
       "      <td>William R. White - Memoranda - received, 1979.</td>\n",
       "    </tr>\n",
       "    <tr>\n",
       "      <th>4</th>\n",
       "      <td>Glenn</td>\n",
       "      <td>01-7-23-20-01-0-1</td>\n",
       "      <td>1.0</td>\n",
       "      <td>5.0</td>\n",
       "      <td>Personal/Political</td>\n",
       "      <td>Administrative Assistant</td>\n",
       "      <td>William R. White - Memoranda - received, 1980.</td>\n",
       "    </tr>\n",
       "  </tbody>\n",
       "</table>\n",
       "</div>"
      ],
      "text/plain": [
       "  Collectionq           Location  Box  Folder              Series  \\\n",
       "0       Glenn  01-7-23-20-01-0-1  1.0     1.0  Personal/Political   \n",
       "1       Glenn  01-7-23-20-01-0-1  1.0     2.0  Personal/Political   \n",
       "2       Glenn  01-7-23-20-01-0-1  1.0     3.0  Personal/Political   \n",
       "3       Glenn  01-7-23-20-01-0-1  1.0     4.0  Personal/Political   \n",
       "4       Glenn  01-7-23-20-01-0-1  1.0     5.0  Personal/Political   \n",
       "\n",
       "                   Subseries  \\\n",
       "0  Administrative Assistants   \n",
       "1   Administrative Assistant   \n",
       "2   Administrative Assistant   \n",
       "3   Administrative Assistant   \n",
       "4   Administrative Assistant   \n",
       "\n",
       "                                         Description  \n",
       "0     William R. White - Memoranda - received, 1977.  \n",
       "1  William R. White - Memoranda - received, Janua...  \n",
       "2  William R. White - Memoranda - received, July ...  \n",
       "3     William R. White - Memoranda - received, 1979.  \n",
       "4     William R. White - Memoranda - received, 1980.  "
      ]
     },
     "execution_count": 64,
     "metadata": {},
     "output_type": "execute_result"
    }
   ],
   "source": [
    "# exploratory data analysis\n",
    "df.head()"
   ]
  },
  {
   "cell_type": "code",
   "execution_count": 65,
   "metadata": {},
   "outputs": [
    {
     "data": {
      "text/plain": [
       "Legislative                                           8138\n",
       "Personal/Political                                    6290\n",
       "Media Relations                                       3709\n",
       "Appropriations Committee                              2070\n",
       "Constituent Services                                   723\n",
       "Investigations                                         630\n",
       "Schedules                                              428\n",
       "Audiovisual Materials                                  285\n",
       "Leadership                                             245\n",
       "District Affairs                                       236\n",
       "Audiovisual                                            209\n",
       "Committees                                             170\n",
       "Travel                                                 166\n",
       "Steel Caucus & Trade                                   156\n",
       "Office Administration                                  136\n",
       "Campaigns                                               84\n",
       "Bills Sponsored/Co-sponsored                            71\n",
       "Voting Record                                           50\n",
       "Artifacts                                               47\n",
       "Select Committee on Aging                               41\n",
       "Organizations                                           23\n",
       "Martin Luther King, Jr. Federal Holiday Commission      11\n",
       "Budget Committee                                         9\n",
       "Name: Series, dtype: int64"
      ]
     },
     "execution_count": 65,
     "metadata": {},
     "output_type": "execute_result"
    }
   ],
   "source": [
    "df['Series'].value_counts()"
   ]
  },
  {
   "cell_type": "code",
   "execution_count": 66,
   "metadata": {},
   "outputs": [
    {
     "data": {
      "text/plain": [
       "Legislative Staff                                                     5393\n",
       "Presidential Campaign Files                                           2036\n",
       "JHG's Office Files                                                    1326\n",
       "Speeches and Statements                                               1263\n",
       "Senate Campaign Files                                                 1180\n",
       "                                                                      ... \n",
       "Martin Luther King, Jr. Federal Holiday Commission                      11\n",
       "Budget Committee                                                         9\n",
       "Transportation, Treasury, Housing & Urban Development Subcommittee       8\n",
       "Government Operations Committee                                          7\n",
       "Administrative Assistants                                                1\n",
       "Name: Subseries, Length: 80, dtype: int64"
      ]
     },
     "execution_count": 66,
     "metadata": {},
     "output_type": "execute_result"
    }
   ],
   "source": [
    "df['Subseries'].value_counts()"
   ]
  },
  {
   "cell_type": "code",
   "execution_count": 67,
   "metadata": {},
   "outputs": [],
   "source": [
    "legislative = df[df['Series'] == 'Legislative']\n",
    "personal_political = df[df['Series'] == 'Personal/Political']\n",
    "media_relations = df[df['Series'] == 'Media Relations']\n",
    "appropriations = df[df['Series'] == 'Appropriations Committee']\n",
    "constituent_services = df[df['Series'] == 'Constituent Services']\n",
    "investigations = df[df['Series'] == 'Investigations']\n",
    "schedules = df[df['Series'] == 'Schedules']\n",
    "audiovisual_materials = df[df['Series'] == 'Audiovisual Materials']\n",
    "leadership = df[df['Series'] == 'Leadership']\n",
    "district_affairs = df[df['Series'] == 'District Affairs']\n",
    "audiovisual = df[df['Series'] == 'Audiovisual']\n",
    "committees = df[df['Series'] == 'Committees']\n",
    "travel = df[df['Series'] == 'Travel']\n",
    "steel =  df[df['Series'] == 'Steel Caucus & Trade']\n",
    "office_administration = df[df['Series'] == 'Office Administration']\n",
    "compaigns = df[df['Series'] == 'Campaigns']\n",
    "bills = df[df['Series'] == 'Bills Sponsored/Co-sponsored']\n",
    "voting = df[df['Series'] == 'Voting Record']\n",
    "artifacts = df[df['Series'] == 'Artifacts']\n",
    "aging = df[df['Series'] == 'Select Committee on Aging']\n",
    "organizations = df[df['Series'] == 'Organizations']\n",
    "budget = df[df['Series'] == 'Budget Committee']\n",
    "mlk = df[df['Series'] == 'Martin Luther King, Jr. Federal Holiday Commission']"
   ]
  },
  {
   "cell_type": "code",
   "execution_count": 68,
   "metadata": {},
   "outputs": [
    {
     "name": "stdout",
     "output_type": "stream",
     "text": [
      "legislative (8138, 7)\n",
      "personal_political (6290, 7)\n",
      "media_relations (3709, 7)\n",
      "appropriations (2070, 7)\n",
      "constituent_services (723, 7)\n",
      "investigations (630, 7)\n",
      "schedules (428, 7)\n",
      "audiovisual_materials (285, 7)\n",
      "leadership (245, 7)\n",
      "district_affairs (236, 7)\n",
      "audiovisual (209, 7)\n",
      "committees (170, 7)\n",
      "travel (166, 7)\n",
      "steel (156, 7)\n",
      "office_administration (136, 7)\n",
      "compaigns (84, 7)\n",
      "bills (71, 7)\n",
      "voting (50, 7)\n",
      "artifacts (47, 7)\n",
      "aging (41, 7)\n",
      "organizations (23, 7)\n",
      "budget (9, 7)\n",
      "mlk (11, 7)\n"
     ]
    }
   ],
   "source": [
    "dataframes = {\n",
    "    'legislative': legislative, \n",
    "    'personal_political': personal_political, \n",
    "    'media_relations': media_relations, \n",
    "    'appropriations': appropriations, \n",
    "    'constituent_services': constituent_services, \n",
    "    'investigations': investigations, \n",
    "    'schedules': schedules, \n",
    "    'audiovisual_materials': audiovisual_materials, \n",
    "    'leadership': leadership, \n",
    "    'district_affairs': district_affairs, \n",
    "    'audiovisual': audiovisual, \n",
    "    'committees': committees, \n",
    "    'travel': travel, \n",
    "    'steel': steel, \n",
    "    'office_administration': office_administration, \n",
    "    'compaigns': compaigns, \n",
    "    'bills': bills, \n",
    "    'voting': voting, \n",
    "    'artifacts': artifacts, \n",
    "    'aging': aging, \n",
    "    'organizations': organizations, \n",
    "    'budget': budget, \n",
    "    'mlk': mlk\n",
    "}\n",
    "\n",
    "for name, df in dataframes.items():\n",
    "    print(name + \" \" + str(df.shape))"
   ]
  },
  {
   "cell_type": "code",
   "execution_count": null,
   "metadata": {},
   "outputs": [],
   "source": []
  }
 ],
 "metadata": {
  "kernelspec": {
   "display_name": "Python 3",
   "language": "python",
   "name": "python3"
  },
  "language_info": {
   "codemirror_mode": {
    "name": "ipython",
    "version": 3
   },
   "file_extension": ".py",
   "mimetype": "text/x-python",
   "name": "python",
   "nbconvert_exporter": "python",
   "pygments_lexer": "ipython3",
   "version": "3.11.7"
  }
 },
 "nbformat": 4,
 "nbformat_minor": 2
}
