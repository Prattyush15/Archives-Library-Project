{
 "cells": [
  {
   "cell_type": "code",
   "execution_count": 23,
   "metadata": {},
   "outputs": [],
   "source": [
    "# importing the libraries\n",
    "import pandas as pd\n",
    "import regex as re\n",
    "import seaborn as sns"
   ]
  },
  {
   "cell_type": "code",
   "execution_count": 24,
   "metadata": {},
   "outputs": [],
   "source": [
    "# read the dataframe\n",
    "df = pd.read_csv('https://raw.githubusercontent.com/SadeekFarhan21/BDAA_Archive/main/data.csv')"
   ]
  },
  {
   "cell_type": "code",
   "execution_count": 25,
   "metadata": {},
   "outputs": [
    {
     "data": {
      "text/html": [
       "<div>\n",
       "<style scoped>\n",
       "    .dataframe tbody tr th:only-of-type {\n",
       "        vertical-align: middle;\n",
       "    }\n",
       "\n",
       "    .dataframe tbody tr th {\n",
       "        vertical-align: top;\n",
       "    }\n",
       "\n",
       "    .dataframe thead th {\n",
       "        text-align: right;\n",
       "    }\n",
       "</style>\n",
       "<table border=\"1\" class=\"dataframe\">\n",
       "  <thead>\n",
       "    <tr style=\"text-align: right;\">\n",
       "      <th></th>\n",
       "      <th>Collectionq</th>\n",
       "      <th>Location</th>\n",
       "      <th>Box</th>\n",
       "      <th>Folder</th>\n",
       "      <th>Series</th>\n",
       "      <th>Subseries</th>\n",
       "      <th>Description</th>\n",
       "    </tr>\n",
       "  </thead>\n",
       "  <tbody>\n",
       "    <tr>\n",
       "      <th>0</th>\n",
       "      <td>Glenn</td>\n",
       "      <td>01-7-23-20-01-0-1</td>\n",
       "      <td>1.0</td>\n",
       "      <td>1.0</td>\n",
       "      <td>Personal/Political</td>\n",
       "      <td>Administrative Assistants</td>\n",
       "      <td>William R. White - Memoranda - received, 1977.</td>\n",
       "    </tr>\n",
       "    <tr>\n",
       "      <th>1</th>\n",
       "      <td>Glenn</td>\n",
       "      <td>01-7-23-20-01-0-1</td>\n",
       "      <td>1.0</td>\n",
       "      <td>2.0</td>\n",
       "      <td>Personal/Political</td>\n",
       "      <td>Administrative Assistant</td>\n",
       "      <td>William R. White - Memoranda - received, Janua...</td>\n",
       "    </tr>\n",
       "    <tr>\n",
       "      <th>2</th>\n",
       "      <td>Glenn</td>\n",
       "      <td>01-7-23-20-01-0-1</td>\n",
       "      <td>1.0</td>\n",
       "      <td>3.0</td>\n",
       "      <td>Personal/Political</td>\n",
       "      <td>Administrative Assistant</td>\n",
       "      <td>William R. White - Memoranda - received, July ...</td>\n",
       "    </tr>\n",
       "    <tr>\n",
       "      <th>3</th>\n",
       "      <td>Glenn</td>\n",
       "      <td>01-7-23-20-01-0-1</td>\n",
       "      <td>1.0</td>\n",
       "      <td>4.0</td>\n",
       "      <td>Personal/Political</td>\n",
       "      <td>Administrative Assistant</td>\n",
       "      <td>William R. White - Memoranda - received, 1979.</td>\n",
       "    </tr>\n",
       "    <tr>\n",
       "      <th>4</th>\n",
       "      <td>Glenn</td>\n",
       "      <td>01-7-23-20-01-0-1</td>\n",
       "      <td>1.0</td>\n",
       "      <td>5.0</td>\n",
       "      <td>Personal/Political</td>\n",
       "      <td>Administrative Assistant</td>\n",
       "      <td>William R. White - Memoranda - received, 1980.</td>\n",
       "    </tr>\n",
       "  </tbody>\n",
       "</table>\n",
       "</div>"
      ],
      "text/plain": [
       "  Collectionq           Location  Box  Folder              Series  \\\n",
       "0       Glenn  01-7-23-20-01-0-1  1.0     1.0  Personal/Political   \n",
       "1       Glenn  01-7-23-20-01-0-1  1.0     2.0  Personal/Political   \n",
       "2       Glenn  01-7-23-20-01-0-1  1.0     3.0  Personal/Political   \n",
       "3       Glenn  01-7-23-20-01-0-1  1.0     4.0  Personal/Political   \n",
       "4       Glenn  01-7-23-20-01-0-1  1.0     5.0  Personal/Political   \n",
       "\n",
       "                   Subseries  \\\n",
       "0  Administrative Assistants   \n",
       "1   Administrative Assistant   \n",
       "2   Administrative Assistant   \n",
       "3   Administrative Assistant   \n",
       "4   Administrative Assistant   \n",
       "\n",
       "                                         Description  \n",
       "0     William R. White - Memoranda - received, 1977.  \n",
       "1  William R. White - Memoranda - received, Janua...  \n",
       "2  William R. White - Memoranda - received, July ...  \n",
       "3     William R. White - Memoranda - received, 1979.  \n",
       "4     William R. White - Memoranda - received, 1980.  "
      ]
     },
     "execution_count": 25,
     "metadata": {},
     "output_type": "execute_result"
    }
   ],
   "source": [
    "# exploratory data analysis\n",
    "df.head()"
   ]
  },
  {
   "cell_type": "code",
   "execution_count": 26,
   "metadata": {},
   "outputs": [
    {
     "data": {
      "text/plain": [
       "Legislative                                           8138\n",
       "Personal/Political                                    6290\n",
       "Media Relations                                       3709\n",
       "Appropriations Committee                              2070\n",
       "Constituent Services                                   723\n",
       "Investigations                                         630\n",
       "Schedules                                              428\n",
       "Audiovisual Materials                                  285\n",
       "Leadership                                             245\n",
       "District Affairs                                       236\n",
       "Audiovisual                                            209\n",
       "Committees                                             170\n",
       "Travel                                                 166\n",
       "Steel Caucus & Trade                                   156\n",
       "Office Administration                                  136\n",
       "Campaigns                                               84\n",
       "Bills Sponsored/Co-sponsored                            71\n",
       "Voting Record                                           50\n",
       "Artifacts                                               47\n",
       "Select Committee on Aging                               41\n",
       "Organizations                                           23\n",
       "Martin Luther King, Jr. Federal Holiday Commission      11\n",
       "Budget Committee                                         9\n",
       "Name: Series, dtype: int64"
      ]
     },
     "execution_count": 26,
     "metadata": {},
     "output_type": "execute_result"
    }
   ],
   "source": [
    "df['Series'].value_counts()"
   ]
  },
  {
   "cell_type": "code",
   "execution_count": 27,
   "metadata": {},
   "outputs": [
    {
     "data": {
      "text/plain": [
       "Legislative Staff                                                     5393\n",
       "Presidential Campaign Files                                           2036\n",
       "JHG's Office Files                                                    1326\n",
       "Speeches and Statements                                               1263\n",
       "Senate Campaign Files                                                 1180\n",
       "                                                                      ... \n",
       "Martin Luther King, Jr. Federal Holiday Commission                      11\n",
       "Budget Committee                                                         9\n",
       "Transportation, Treasury, Housing & Urban Development Subcommittee       8\n",
       "Government Operations Committee                                          7\n",
       "Administrative Assistants                                                1\n",
       "Name: Subseries, Length: 80, dtype: int64"
      ]
     },
     "execution_count": 27,
     "metadata": {},
     "output_type": "execute_result"
    }
   ],
   "source": [
    "df['Subseries'].value_counts()"
   ]
  }
 ],
 "metadata": {
  "kernelspec": {
   "display_name": "Python 3",
   "language": "python",
   "name": "python3"
  },
  "language_info": {
   "codemirror_mode": {
    "name": "ipython",
    "version": 3
   },
   "file_extension": ".py",
   "mimetype": "text/x-python",
   "name": "python",
   "nbconvert_exporter": "python",
   "pygments_lexer": "ipython3",
   "version": "3.11.7"
  }
 },
 "nbformat": 4,
 "nbformat_minor": 2
}
